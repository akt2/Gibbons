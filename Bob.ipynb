{
 "cells": [
  {
   "cell_type": "code",
   "execution_count": null,
   "metadata": {},
   "outputs": [],
   "source": [
    "import pandas as pd\n",
    "import numpy as np\n",
    "import matplotlib.pyplot as plt"
   ]
  },
  {
   "cell_type": "code",
   "execution_count": null,
   "metadata": {},
   "outputs": [],
   "source": [
    "# Tell Jupyter where the file is\n",
    "PL = \"PlantList.csv\""
   ]
  },
  {
   "cell_type": "code",
   "execution_count": null,
   "metadata": {},
   "outputs": [],
   "source": [
    "# Make a dataframe from the file\n",
    "pldf = pd.read_csv(PL)"
   ]
  },
  {
   "cell_type": "code",
   "execution_count": null,
   "metadata": {},
   "outputs": [],
   "source": [
    "# Check out the dataframe\n",
    "pldf.head()"
   ]
  },
  {
   "cell_type": "code",
   "execution_count": null,
   "metadata": {},
   "outputs": [],
   "source": [
    "# More checking things out\n",
    "pldf[\"Reference\"].head()"
   ]
  },
  {
   "cell_type": "code",
   "execution_count": null,
   "metadata": {},
   "outputs": [],
   "source": [
    "# A dataframe with species mentioned only once segun criteria from both Genus and Species columns\n",
    "pldd = pldf[['Genus.1','Species.1']].drop_duplicates()"
   ]
  },
  {
   "cell_type": "code",
   "execution_count": null,
   "metadata": {},
   "outputs": [],
   "source": [
    "# The number of rows per genus\n",
    "pldf['Genus'].value_counts()"
   ]
  },
  {
   "cell_type": "code",
   "execution_count": null,
   "metadata": {},
   "outputs": [],
   "source": [
    "# Sorting by plant taxa\n",
    "pldf.sort_values(['Family','Genus.1','Species.1'], ascending=[True,True,True])"
   ]
  },
  {
   "cell_type": "code",
   "execution_count": null,
   "metadata": {},
   "outputs": [],
   "source": [
    "# Counts the number of rows each Genus has under the Species.1 column (aka not helpful)\n",
    "pldf.groupby('Genus')['Genus.1'].count()"
   ]
  },
  {
   "cell_type": "code",
   "execution_count": null,
   "metadata": {},
   "outputs": [],
   "source": [
    "# Counts the number of rows each plant genus has under each gibbon genus\n",
    "pldf.groupby('Genus')['Genus.1'].value_counts()"
   ]
  },
  {
   "cell_type": "code",
   "execution_count": null,
   "metadata": {},
   "outputs": [],
   "source": [
    "# Counts the number of plant species rows per genus for each gibbon genus\n",
    "pldf.groupby(['Genus','Genus.1'],as_index=False)['Species.1'].count()"
   ]
  },
  {
   "cell_type": "code",
   "execution_count": null,
   "metadata": {
    "scrolled": true
   },
   "outputs": [],
   "source": [
    "# Lists the number of genera per family\n",
    "pldf.groupby('Family')['Genus.1'].unique()"
   ]
  },
  {
   "cell_type": "code",
   "execution_count": null,
   "metadata": {
    "scrolled": true
   },
   "outputs": [],
   "source": [
    "# The number of rows for each species\n",
    "pldf['Species.1'].value_counts()"
   ]
  },
  {
   "cell_type": "code",
   "execution_count": null,
   "metadata": {},
   "outputs": [],
   "source": [
    "# Counts the numbers of unique values of each column\n",
    "pldf.nunique()"
   ]
  },
  {
   "cell_type": "code",
   "execution_count": null,
   "metadata": {},
   "outputs": [],
   "source": [
    "# Created a new column combining genus and species to make finding unique plant species easier\n",
    "Genuspec = pldf[\"Genus.1\"] + \" \" + pldf[\"Species.1\"]\n",
    "pldf[\"Genuspec\"] = Genuspec\n",
    "pldf.head()"
   ]
  },
  {
   "cell_type": "code",
   "execution_count": null,
   "metadata": {},
   "outputs": [],
   "source": [
    "# Counts the number of unique values in the Genuspec column\n",
    "pldf['Genuspec'].nunique()"
   ]
  },
  {
   "cell_type": "code",
   "execution_count": null,
   "metadata": {},
   "outputs": [],
   "source": [
    "# Makes a list of the column headers\n",
    "cols = pldf.columns.tolist()\n",
    "cols"
   ]
  },
  {
   "cell_type": "code",
   "execution_count": null,
   "metadata": {},
   "outputs": [],
   "source": [
    "# Moves Genuspec to the middle of the list\n",
    "cols1 = cols [:-10] + cols[-1:] + cols[11:20]"
   ]
  },
  {
   "cell_type": "code",
   "execution_count": null,
   "metadata": {},
   "outputs": [],
   "source": [
    "# Tells the dataframe to adopt the order in the column list, putting Genuspec in a more sensible position\n",
    "pldf = pldf[cols1]\n",
    "pldf.head()"
   ]
  },
  {
   "cell_type": "code",
   "execution_count": 43,
   "metadata": {},
   "outputs": [
    {
     "data": {
      "text/plain": [
       "Genus\n",
       "Hoolock                    100\n",
       "Hylobates                  105\n",
       "Hylobates; Symphalangus     43\n",
       "Nomascus                   119\n",
       "Symphalangus                68\n",
       "Name: Family, dtype: int64"
      ]
     },
     "execution_count": 43,
     "metadata": {},
     "output_type": "execute_result"
    }
   ],
   "source": [
    "# # Counts the number of unique plant genera per gibbon genus\n",
    "pldf.groupby('Genus')['Genus.1'].nunique()\n",
    "# # Counts the number of unique plant genera per gibbon species\n",
    "pldf.groupby('Species')['Genus.1'].nunique()\n",
    "# # Counts the number of unique plant families per gibbon genus and species\n",
    "pldf.groupby('Genus')['Family'].nunique()\n",
    "pldf.groupby('Species')['Family'].nunique()\n",
    "# # Counts the number of unique plant species per gibbon taxa\n",
    "pldf.groupby('Genus')['Species.1'].nunique()\n",
    "pldf.groupby('Species')['Species.1'].nunique()"
   ]
  },
  {
   "cell_type": "code",
   "execution_count": 44,
   "metadata": {},
   "outputs": [
    {
     "data": {
      "text/plain": [
       "Reference\n",
       "Ahsan 1994 (Chunati)                             48\n",
       "Ahsan 1994 (L1)                                  40\n",
       "Ahsan 1994 (L2)                                  40\n",
       "Ario 2011a                                       47\n",
       "Ario 2011b                                       61\n",
       "Atmanto et al. 2014                              15\n",
       "BTNG 2010                                        49\n",
       "Bach et al. 2017                                 50\n",
       "Bangun et al. 2009; Bangun 2007                  10\n",
       "Bartlett 1999                                    11\n",
       "Bartlett 2009                                    27\n",
       "Bartlett 2009; Barlett 1999                      18\n",
       "Bartlett et al. 2015                              6\n",
       "Barua & Gogoi 2012                               29\n",
       "Berliana et al. 2013                             16\n",
       "Bleisch & Chen 1991                               1\n",
       "Borah 2015                                       50\n",
       "Borah et al. 2014                                13\n",
       "Bujarbarua & Das 2001                             1\n",
       "Cheyne 2010                                      25\n",
       "Chivers 1985                                      3\n",
       "Chivers et al. 1975                              30\n",
       "Chivers et al. 1980                              67\n",
       "Chivers et al. 1980 (TS1/A)                       2\n",
       "Clink et al. 2017                                46\n",
       "Das 2012                                          1\n",
       "Das et al. 2009                                   4\n",
       "Duma 2007 (Group KC)                             48\n",
       "Elder 2013                                       76\n",
       "Fan et al. 2009 (G3)                             55\n",
       "                                                 ..\n",
       "Prastyono 1999                                   35\n",
       "Raemaekers 1985                                  15\n",
       "Raemaekers 1985; Mols et al. 2008                 1\n",
       "Rahman 2011                                      49\n",
       "Rahmuddin 2009                                   19\n",
       "Santosa et al. 2012                              21\n",
       "Sarma 2015                                       31\n",
       "Sheeran 1992                                      9\n",
       "Srikosamatara 1984                               21\n",
       "Subramaniam 1981                                 11\n",
       "Suherman 2001                                    13\n",
       "Sultan 2009                                      13\n",
       "Surono 2012                                      35\n",
       "Sutrisno 2001                                    83\n",
       "Suwanvecho et al. 2017                           89\n",
       "Suyanti 2007                                     39\n",
       "Tilson 1979                                      30\n",
       "Tingpalapong et al. 1981                          5\n",
       "Ungar 1992                                       29\n",
       "Vogel et al. 2009                                27\n",
       "Wahyuni & Nasution 2016                           3\n",
       "Wang 2012                                        59\n",
       "Whitington & Treesucon 1991                      53\n",
       "Whitten 1982                                     35\n",
       "Wu et al. 2009                                   39\n",
       "Yanuar 2007                                       2\n",
       "Yimkao & Srikosamatara 2006                      37\n",
       "Yuan et al. 2014                                 14\n",
       "Zhou 2008 (Group B mostly; Group A); Liu 2015    77\n",
       "장하늘 2014 (Groups A,B,S)                           8\n",
       "Name: Genus.1, Length: 120, dtype: int64"
      ]
     },
     "execution_count": 44,
     "metadata": {},
     "output_type": "execute_result"
    }
   ],
   "source": [
    "pldf.groupby('Reference')['Genus.1'].nunique()"
   ]
  },
  {
   "cell_type": "code",
   "execution_count": null,
   "metadata": {},
   "outputs": [],
   "source": []
  }
 ],
 "metadata": {
  "kernelspec": {
   "display_name": "Python 3",
   "language": "python",
   "name": "python3"
  },
  "language_info": {
   "codemirror_mode": {
    "name": "ipython",
    "version": 3
   },
   "file_extension": ".py",
   "mimetype": "text/x-python",
   "name": "python",
   "nbconvert_exporter": "python",
   "pygments_lexer": "ipython3",
   "version": "3.7.1"
  }
 },
 "nbformat": 4,
 "nbformat_minor": 2
}
